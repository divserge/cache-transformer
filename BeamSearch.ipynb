{
 "cells": [
  {
   "cell_type": "code",
   "execution_count": 1,
   "metadata": {},
   "outputs": [],
   "source": [
    "import sys\n",
    "import numpy as np\n",
    "import tensorflow as tf\n",
    "import os\n",
    "from tensorflow.contrib.lookup import MutableHashTable\n",
    "from tensor2tensor.layers import common_layers\n",
    "\n",
    "from tensor2tensor.models import transformer\n",
    "sys.path.append('/workspace/MT/tensor2tensor/tensor2tensor/models/')\n",
    "sys.path.append('/workspace/MT/tensor2tensor/tensor2tensor/utils/')\n",
    "\n",
    "from transformer_test import TransformerTest\n",
    "from transformer_cache import TransformerCache\n",
    "from tensor2tensor.data_generators import problem_hparams\n",
    "from tensor2tensor.data_generators import problem\n",
    "import beam_search_states"
   ]
  },
  {
   "cell_type": "code",
   "execution_count": 2,
   "metadata": {},
   "outputs": [],
   "source": [
    "batch_size = 1\n",
    "beam_size = 1\n",
    "vocab_size = 2\n",
    "decode_length = 3\n",
    "\n",
    "initial_ids = tf.constant([0] * batch_size)  # GO\n",
    "probabilities = tf.constant([[[0.7, 0.3]], [[0.4, 0.6]], [[0.5, 0.5]]])\n",
    "\n",
    "expected_states = tf.constant([[[0.]], [[2.]]])\n",
    "\n",
    "def symbols_to_logits(ids, _, states):\n",
    "    pos = tf.shape(ids)[1] - 1\n",
    "    # We have to assert the values of state inline here since we can't fetch\n",
    "    # them out of the loop!\n",
    "    with tf.control_dependencies(\n",
    "      [tf.assert_equal(states[\"state\"], expected_states[pos])]\n",
    "    ):\n",
    "        logits = tf.to_float(tf.log(probabilities[pos, :]))\n",
    "\n",
    "    states[\"state\"] += 2\n",
    "    return logits, states\n",
    "\n",
    "states = {\n",
    "    \"state\": tf.zeros((batch_size, 1)),\n",
    "}\n",
    "\n",
    "states[\"state\"] = tf.placeholder_with_default(\n",
    "    states[\"state\"], shape=(None, 1))\n",
    "\n",
    "final_ids, _, st, fst = beam_search_states.beam_search(\n",
    "    symbols_to_logits,\n",
    "    initial_ids,\n",
    "    beam_size,\n",
    "    decode_length,\n",
    "    vocab_size,\n",
    "    0.0,\n",
    "    eos_id=1,\n",
    "    states=states\n",
    ")\n",
    "\n",
    "with tf.Session() as sess:\n",
    "    sess.run(tf.global_variables_initializer())\n",
    "  # Catch and fail so that the testing framework doesn't think it's an error\n",
    "    try:\n",
    "        f, s, ss = sess.run([final_ids, st, fst])\n",
    "    except tf.errors.InvalidArgumentError as e:\n",
    "        raise AssertionError(e.message)"
   ]
  },
  {
   "cell_type": "code",
   "execution_count": 10,
   "metadata": {},
   "outputs": [],
   "source": [
    "batch_size = 1\n",
    "beam_size = 2\n",
    "vocab_size = 3\n",
    "decode_length = 3\n",
    "\n",
    "initial_ids = tf.constant([0] * batch_size)  # GO\n",
    "probabilities = tf.constant([[[0.1, 0.1, 0.8], [0.1, 0.1, 0.8]],\n",
    "                             [[0.4, 0.5, 0.1], [0.2, 0.4, 0.4]],\n",
    "                             [[0.05, 0.9, 0.05], [0.4, 0.4, 0.2]]])\n",
    "\n",
    "# The top beam is always selected so we should see the top beam's state\n",
    "# at each position, which is the one thats getting 3 added to it each step.\n",
    "expected_states = tf.constant([[[0.], [0.]], [[3.], [3.]], [[6.], [6.]]])\n",
    "\n",
    "def symbols_to_logits(ids, _, states):\n",
    "    pos = tf.shape(ids)[1] - 1\n",
    "\n",
    "    # We have to assert the values of state inline here since we can't fetch\n",
    "    # them out of the loop!\n",
    "    with tf.control_dependencies(\n",
    "      [tf.assert_equal(states[\"state\"], expected_states[pos])]):\n",
    "        logits = tf.to_float(tf.log(probabilities[pos, :]))\n",
    "\n",
    "    states[\"state\"] += tf.constant([[3.], [7.]])\n",
    "    return logits, states\n",
    "\n",
    "states = {\n",
    "    \"state\": tf.zeros((batch_size, 1)),\n",
    "}\n",
    "\n",
    "states[\"state\"] = tf.placeholder_with_default(\n",
    "    states[\"state\"], shape=(None, 1))\n",
    "\n",
    "final_ids, _, st, fst = beam_search_states.beam_search(\n",
    "    symbols_to_logits,\n",
    "    initial_ids,\n",
    "    beam_size,\n",
    "    decode_length,\n",
    "    vocab_size,\n",
    "    0.0,\n",
    "    eos_id=1,\n",
    "    states=states)\n",
    "\n",
    "with tf.Session() as sess:\n",
    "  # Catch and fail so that the testing framework doesn't think it's an error\n",
    "    sess.run(tf.global_variables_initializer())\n",
    "    try:\n",
    "        f, s, ss = sess.run([final_ids, st, fst])\n",
    "    except tf.errors.InvalidArgumentError as e:\n",
    "        raise AssertionError(e.message)"
   ]
  },
  {
   "cell_type": "code",
   "execution_count": 11,
   "metadata": {},
   "outputs": [
    {
     "data": {
      "text/plain": [
       "(1, 2, 4, 1)"
      ]
     },
     "execution_count": 11,
     "metadata": {},
     "output_type": "execute_result"
    }
   ],
   "source": [
    "ss.shape"
   ]
  },
  {
   "cell_type": "code",
   "execution_count": null,
   "metadata": {},
   "outputs": [],
   "source": []
  }
 ],
 "metadata": {
  "kernelspec": {
   "display_name": "Python 3",
   "language": "python",
   "name": "python3"
  },
  "language_info": {
   "codemirror_mode": {
    "name": "ipython",
    "version": 3
   },
   "file_extension": ".py",
   "mimetype": "text/x-python",
   "name": "python",
   "nbconvert_exporter": "python",
   "pygments_lexer": "ipython3",
   "version": "3.5.2"
  }
 },
 "nbformat": 4,
 "nbformat_minor": 2
}
